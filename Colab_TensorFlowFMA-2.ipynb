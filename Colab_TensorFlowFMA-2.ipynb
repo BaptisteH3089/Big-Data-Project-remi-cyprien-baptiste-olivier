{
  "nbformat": 4,
  "nbformat_minor": 0,
  "metadata": {
    "colab": {
      "name": "Colab_TensorFlowFMA.ipynb",
      "provenance": [],
      "collapsed_sections": []
    },
    "kernelspec": {
      "name": "python3",
      "display_name": "Python 3"
    },
    "language_info": {
      "name": "python"
    }
  },
  "cells": [
    {
      "cell_type": "markdown",
      "metadata": {
        "id": "HA0y7fHnroRN"
      },
      "source": [
        "# __Big Data Project__ - _Free Music Archive Analysis_\n",
        "### *M2 EcoStat*\n",
        "By _Olivier Robert_, _Cyprien Cambus_, _Rémi Perrichon_ and _Baptiste Hessel_.\n",
        "\n",
        "## Tensorflow Model"
      ]
    },
    {
      "cell_type": "markdown",
      "metadata": {
        "id": "UvgMXzz5AUP9"
      },
      "source": [
        "The goal of this notebook is to make a multiclass classification neural network. \n",
        "\n",
        "We will use the temporal features extracted from the audio songs to predict the principal genre of a track.\n",
        "\n",
        "The problem is that there are almost 50% of missing values in the target variable that is the _top_genre_ column. Therefore one of the main challenge of this notebook has been to construct a new target variable by remplacing _NaN_ by the most popular genre of the track that can be found in the column _genres_all_. \n",
        "\n",
        "That way, we have been able to keep almost the 100.000 lines of the dataset to build a model.\n",
        "\n",
        "The second challenge to deal with was the very important number of classes to predict (more than 50 at the beggining).\n",
        "\n",
        "For this notebook you need to use the colab data (i.e. the regular data, not the one for databricks).\n"
      ]
    },
    {
      "cell_type": "code",
      "metadata": {
        "id": "syYXJ0ZLO4W7"
      },
      "source": [
        "import pandas as pd\n",
        "import numpy as np\n",
        "import matplotlib.pyplot as plt\n",
        "import seaborn as sns\n",
        "import sklearn\n",
        "import sklearn.utils, sklearn.preprocessing, sklearn.decomposition, sklearn.svm\n",
        "from sklearn.datasets import make_multilabel_classification\n",
        "from sklearn.model_selection import RepeatedKFold, StratifiedKFold\n",
        "from sklearn.model_selection import train_test_split, KFold\n",
        "from sklearn.preprocessing import MultiLabelBinarizer, LabelEncoder\n",
        "from sklearn.preprocessing import LabelBinarizer, StandardScaler\n",
        "from sklearn.metrics import accuracy_score\n",
        "from sklearn.ensemble import RandomForestClassifier\n",
        "from keras.models import Sequential\n",
        "from keras.layers import Dense\n",
        "from google.colab import drive\n",
        "import IPython.display as ipd\n",
        "import ast, math"
      ],
      "execution_count": null,
      "outputs": []
    },
    {
      "cell_type": "code",
      "metadata": {
        "colab": {
          "base_uri": "https://localhost:8080/"
        },
        "id": "0QLbQCmMP0en",
        "outputId": "ebe43860-c862-476c-e8d4-faf9d344dff5"
      },
      "source": [
        "# You may need to replace the part\n",
        "# \"Drive/Final_Project_Big_Data_M2/Data/fma_metadata\" by the location you placed\n",
        "# the dataset\n",
        "drive.mount(\"/content/drive\")\n",
        "%cd /content/drive/My\\ Drive/Final_Project_Big_Data_M2/Data/fma_metadata"
      ],
      "execution_count": null,
      "outputs": [
        {
          "output_type": "stream",
          "text": [
            "Drive already mounted at /content/drive; to attempt to forcibly remount, call drive.mount(\"/content/drive\", force_remount=True).\n",
            "/content/drive/.shortcut-targets-by-id/1CsEfNPMaW5wHrONjMaS-sUcmCNwzq4y7/Final_Project_Big_Data_M2/Data/fma_metadata\n"
          ],
          "name": "stdout"
        }
      ]
    },
    {
      "cell_type": "markdown",
      "metadata": {
        "id": "DTVsthACzEDY"
      },
      "source": [
        "\n",
        "## Loading of the dataset\n",
        "\n"
      ]
    },
    {
      "cell_type": "code",
      "metadata": {
        "id": "fHDfDirzP9EI"
      },
      "source": [
        "genres = pd.read_csv(\"genres.csv\", index_col=0)\n",
        "features = pd.read_csv(\"features.csv\", index_col=0, header=[0, 1, 2])\n",
        "tracks = pd.read_csv(\"tracks.csv\", index_col=0, header=[0, 1])\n",
        "echonest = pd.read_csv(\"echonest.csv\", index_col=0, header=[0, 1, 2])"
      ],
      "execution_count": null,
      "outputs": []
    },
    {
      "cell_type": "markdown",
      "metadata": {
        "id": "Fl9uyeSOGibz"
      },
      "source": [
        "The features dataset contains the variables that will allow us to predict the genre of the tracks.\n",
        "\n",
        "The tracks dataset contains the target variable as well as some informations about the tracks.\n",
        "\n",
        "genres is a small dataset containing mostly the correspondance between the id of a genre and the title of that genre.\n",
        "\n",
        "echonest contains some features extracted from the time series associated to the tracks. But they are not available for many tracks, that's why we won't include them in this analysis."
      ]
    },
    {
      "cell_type": "markdown",
      "metadata": {
        "id": "YqcrcEEfWW1G"
      },
      "source": [
        "\n",
        "## Data Preparation"
      ]
    },
    {
      "cell_type": "code",
      "metadata": {
        "id": "3_SDSflnuR2z"
      },
      "source": [
        "COLUMNS = [('track', 'tags'), ('album', 'tags'), ('artist', 'tags'),\n",
        "                   ('track', 'genres'), ('track', 'genres_all')]\n",
        "\n",
        "# Safely evaluate an expression node or a Unicode or Latin-1 encoded string\n",
        "# containing a Python expression\n",
        "for column in COLUMNS:\n",
        "    tracks[column] = tracks[column].map(ast.literal_eval)\n",
        "\n",
        "# we convert the following columns to date format\n",
        "COLUMNS = [('track', 'date_created'), ('track', 'date_recorded'),\n",
        "            ('album', 'date_created'), ('album', 'date_released'),\n",
        "            ('artist', 'date_created'), ('artist', 'active_year_begin'),\n",
        "            ('artist', 'active_year_end')]\n",
        "for column in COLUMNS:\n",
        "    tracks[column] = pd.to_datetime(tracks[column])\n",
        "\n",
        "# There are 3 subsets to train the model on different sizes of data\n",
        "# We also convert to categorical type\n",
        "SUBSETS = ('small', 'medium', 'large')\n",
        "try:\n",
        "    tracks['set', 'subset'] = tracks['set', 'subset'].astype(\n",
        "            'category', categories=SUBSETS, ordered=True)\n",
        "except (ValueError, TypeError):\n",
        "    tracks['set', 'subset'] = tracks['set', 'subset'].astype(\n",
        "              pd.CategoricalDtype(categories=SUBSETS, ordered=True))\n",
        "\n",
        "COLUMNS = [('track', 'genre_top'), ('track', 'license'),\n",
        "            ('album', 'type'), ('album', 'information'),\n",
        "            ('artist', 'bio')]\n",
        "# Convert each of the above columns of tracks to categorical type\n",
        "for column in COLUMNS:\n",
        "    tracks[column] = tracks[column].astype('category')"
      ],
      "execution_count": null,
      "outputs": []
    },
    {
      "cell_type": "markdown",
      "metadata": {
        "id": "jdeCeQch0O1g"
      },
      "source": [
        "### Verification of the shapes of the datasets\n",
        "\n",
        "Tracks and features must have the same number of lines to train a model."
      ]
    },
    {
      "cell_type": "code",
      "metadata": {
        "colab": {
          "base_uri": "https://localhost:8080/"
        },
        "id": "aSUMfxynP9qJ",
        "outputId": "fb8b23ef-bcbd-4087-80ef-5221892a4c7f"
      },
      "source": [
        "print(\"{:<25}{:<8}{:>8}\".format(\"\", 'lines', 'columns'))\n",
        "print(\"{:->42s}\".format(\"\"))\n",
        "print(\"{:<25}{:<8}{:>8}\".format(\"genres.shape\", *genres.shape))\n",
        "print(\"{:<25}{:<8}{:>8}\".format(\"echonest.shape\", *echonest.shape))\n",
        "print(\"{:<25}{:<8}{:>8}\".format(\"tracks.shape\", *tracks.shape))\n",
        "print(\"{:<25}{:<8}{:>8}\".format(\"features.shape\", *features.shape))"
      ],
      "execution_count": null,
      "outputs": [
        {
          "output_type": "stream",
          "text": [
            "                         lines    columns\n",
            "------------------------------------------\n",
            "genres.shape             163            4\n",
            "echonest.shape           13129        249\n",
            "tracks.shape             106574        52\n",
            "features.shape           106574       518\n"
          ],
          "name": "stdout"
        }
      ]
    },
    {
      "cell_type": "code",
      "metadata": {
        "colab": {
          "base_uri": "https://localhost:8080/",
          "height": 1000
        },
        "id": "9QOy-ZmQ5S-6",
        "outputId": "e9ae0816-59c8-4456-c8e7-acb22ebf506b"
      },
      "source": [
        "ipd.display(tracks['track'].head())\n",
        "ipd.display(tracks['album'].head())\n",
        "ipd.display(tracks['artist'].head())\n",
        "ipd.display(tracks['set'].head())"
      ],
      "execution_count": null,
      "outputs": [
        {
          "output_type": "display_data",
          "data": {
            "text/html": [
              "<div>\n",
              "<style scoped>\n",
              "    .dataframe tbody tr th:only-of-type {\n",
              "        vertical-align: middle;\n",
              "    }\n",
              "\n",
              "    .dataframe tbody tr th {\n",
              "        vertical-align: top;\n",
              "    }\n",
              "\n",
              "    .dataframe thead th {\n",
              "        text-align: right;\n",
              "    }\n",
              "</style>\n",
              "<table border=\"1\" class=\"dataframe\">\n",
              "  <thead>\n",
              "    <tr style=\"text-align: right;\">\n",
              "      <th></th>\n",
              "      <th>bit_rate</th>\n",
              "      <th>comments</th>\n",
              "      <th>composer</th>\n",
              "      <th>date_created</th>\n",
              "      <th>date_recorded</th>\n",
              "      <th>duration</th>\n",
              "      <th>favorites</th>\n",
              "      <th>genre_top</th>\n",
              "      <th>genres</th>\n",
              "      <th>genres_all</th>\n",
              "      <th>information</th>\n",
              "      <th>interest</th>\n",
              "      <th>language_code</th>\n",
              "      <th>license</th>\n",
              "      <th>listens</th>\n",
              "      <th>lyricist</th>\n",
              "      <th>number</th>\n",
              "      <th>publisher</th>\n",
              "      <th>tags</th>\n",
              "      <th>title</th>\n",
              "    </tr>\n",
              "    <tr>\n",
              "      <th>track_id</th>\n",
              "      <th></th>\n",
              "      <th></th>\n",
              "      <th></th>\n",
              "      <th></th>\n",
              "      <th></th>\n",
              "      <th></th>\n",
              "      <th></th>\n",
              "      <th></th>\n",
              "      <th></th>\n",
              "      <th></th>\n",
              "      <th></th>\n",
              "      <th></th>\n",
              "      <th></th>\n",
              "      <th></th>\n",
              "      <th></th>\n",
              "      <th></th>\n",
              "      <th></th>\n",
              "      <th></th>\n",
              "      <th></th>\n",
              "      <th></th>\n",
              "    </tr>\n",
              "  </thead>\n",
              "  <tbody>\n",
              "    <tr>\n",
              "      <th>2</th>\n",
              "      <td>256000</td>\n",
              "      <td>0</td>\n",
              "      <td>NaN</td>\n",
              "      <td>2008-11-26 01:48:12</td>\n",
              "      <td>2008-11-26</td>\n",
              "      <td>168</td>\n",
              "      <td>2</td>\n",
              "      <td>Hip-Hop</td>\n",
              "      <td>[21]</td>\n",
              "      <td>[21]</td>\n",
              "      <td>NaN</td>\n",
              "      <td>4656</td>\n",
              "      <td>en</td>\n",
              "      <td>Attribution-NonCommercial-ShareAlike 3.0 Inter...</td>\n",
              "      <td>1293</td>\n",
              "      <td>NaN</td>\n",
              "      <td>3</td>\n",
              "      <td>NaN</td>\n",
              "      <td>[]</td>\n",
              "      <td>Food</td>\n",
              "    </tr>\n",
              "    <tr>\n",
              "      <th>3</th>\n",
              "      <td>256000</td>\n",
              "      <td>0</td>\n",
              "      <td>NaN</td>\n",
              "      <td>2008-11-26 01:48:14</td>\n",
              "      <td>2008-11-26</td>\n",
              "      <td>237</td>\n",
              "      <td>1</td>\n",
              "      <td>Hip-Hop</td>\n",
              "      <td>[21]</td>\n",
              "      <td>[21]</td>\n",
              "      <td>NaN</td>\n",
              "      <td>1470</td>\n",
              "      <td>en</td>\n",
              "      <td>Attribution-NonCommercial-ShareAlike 3.0 Inter...</td>\n",
              "      <td>514</td>\n",
              "      <td>NaN</td>\n",
              "      <td>4</td>\n",
              "      <td>NaN</td>\n",
              "      <td>[]</td>\n",
              "      <td>Electric Ave</td>\n",
              "    </tr>\n",
              "    <tr>\n",
              "      <th>5</th>\n",
              "      <td>256000</td>\n",
              "      <td>0</td>\n",
              "      <td>NaN</td>\n",
              "      <td>2008-11-26 01:48:20</td>\n",
              "      <td>2008-11-26</td>\n",
              "      <td>206</td>\n",
              "      <td>6</td>\n",
              "      <td>Hip-Hop</td>\n",
              "      <td>[21]</td>\n",
              "      <td>[21]</td>\n",
              "      <td>NaN</td>\n",
              "      <td>1933</td>\n",
              "      <td>en</td>\n",
              "      <td>Attribution-NonCommercial-ShareAlike 3.0 Inter...</td>\n",
              "      <td>1151</td>\n",
              "      <td>NaN</td>\n",
              "      <td>6</td>\n",
              "      <td>NaN</td>\n",
              "      <td>[]</td>\n",
              "      <td>This World</td>\n",
              "    </tr>\n",
              "    <tr>\n",
              "      <th>10</th>\n",
              "      <td>192000</td>\n",
              "      <td>0</td>\n",
              "      <td>Kurt Vile</td>\n",
              "      <td>2008-11-25 17:49:06</td>\n",
              "      <td>2008-11-26</td>\n",
              "      <td>161</td>\n",
              "      <td>178</td>\n",
              "      <td>Pop</td>\n",
              "      <td>[10]</td>\n",
              "      <td>[10]</td>\n",
              "      <td>NaN</td>\n",
              "      <td>54881</td>\n",
              "      <td>en</td>\n",
              "      <td>Attribution-NonCommercial-NoDerivatives (aka M...</td>\n",
              "      <td>50135</td>\n",
              "      <td>NaN</td>\n",
              "      <td>1</td>\n",
              "      <td>NaN</td>\n",
              "      <td>[]</td>\n",
              "      <td>Freeway</td>\n",
              "    </tr>\n",
              "    <tr>\n",
              "      <th>20</th>\n",
              "      <td>256000</td>\n",
              "      <td>0</td>\n",
              "      <td>NaN</td>\n",
              "      <td>2008-11-26 01:48:56</td>\n",
              "      <td>2008-01-01</td>\n",
              "      <td>311</td>\n",
              "      <td>0</td>\n",
              "      <td>NaN</td>\n",
              "      <td>[76, 103]</td>\n",
              "      <td>[17, 10, 76, 103]</td>\n",
              "      <td>NaN</td>\n",
              "      <td>978</td>\n",
              "      <td>en</td>\n",
              "      <td>Attribution-NonCommercial-NoDerivatives (aka M...</td>\n",
              "      <td>361</td>\n",
              "      <td>NaN</td>\n",
              "      <td>3</td>\n",
              "      <td>NaN</td>\n",
              "      <td>[]</td>\n",
              "      <td>Spiritual Level</td>\n",
              "    </tr>\n",
              "  </tbody>\n",
              "</table>\n",
              "</div>"
            ],
            "text/plain": [
              "          bit_rate  comments   composer  ... publisher tags            title\n",
              "track_id                                 ...                                \n",
              "2           256000         0        NaN  ...       NaN   []             Food\n",
              "3           256000         0        NaN  ...       NaN   []     Electric Ave\n",
              "5           256000         0        NaN  ...       NaN   []       This World\n",
              "10          192000         0  Kurt Vile  ...       NaN   []          Freeway\n",
              "20          256000         0        NaN  ...       NaN   []  Spiritual Level\n",
              "\n",
              "[5 rows x 20 columns]"
            ]
          },
          "metadata": {
            "tags": []
          }
        },
        {
          "output_type": "display_data",
          "data": {
            "text/html": [
              "<div>\n",
              "<style scoped>\n",
              "    .dataframe tbody tr th:only-of-type {\n",
              "        vertical-align: middle;\n",
              "    }\n",
              "\n",
              "    .dataframe tbody tr th {\n",
              "        vertical-align: top;\n",
              "    }\n",
              "\n",
              "    .dataframe thead th {\n",
              "        text-align: right;\n",
              "    }\n",
              "</style>\n",
              "<table border=\"1\" class=\"dataframe\">\n",
              "  <thead>\n",
              "    <tr style=\"text-align: right;\">\n",
              "      <th></th>\n",
              "      <th>comments</th>\n",
              "      <th>date_created</th>\n",
              "      <th>date_released</th>\n",
              "      <th>engineer</th>\n",
              "      <th>favorites</th>\n",
              "      <th>id</th>\n",
              "      <th>information</th>\n",
              "      <th>listens</th>\n",
              "      <th>producer</th>\n",
              "      <th>tags</th>\n",
              "      <th>title</th>\n",
              "      <th>tracks</th>\n",
              "      <th>type</th>\n",
              "    </tr>\n",
              "    <tr>\n",
              "      <th>track_id</th>\n",
              "      <th></th>\n",
              "      <th></th>\n",
              "      <th></th>\n",
              "      <th></th>\n",
              "      <th></th>\n",
              "      <th></th>\n",
              "      <th></th>\n",
              "      <th></th>\n",
              "      <th></th>\n",
              "      <th></th>\n",
              "      <th></th>\n",
              "      <th></th>\n",
              "      <th></th>\n",
              "    </tr>\n",
              "  </thead>\n",
              "  <tbody>\n",
              "    <tr>\n",
              "      <th>2</th>\n",
              "      <td>0</td>\n",
              "      <td>2008-11-26 01:44:45</td>\n",
              "      <td>2009-01-05</td>\n",
              "      <td>NaN</td>\n",
              "      <td>4</td>\n",
              "      <td>1</td>\n",
              "      <td>&lt;p&gt;&lt;/p&gt;</td>\n",
              "      <td>6073</td>\n",
              "      <td>NaN</td>\n",
              "      <td>[]</td>\n",
              "      <td>AWOL - A Way Of Life</td>\n",
              "      <td>7</td>\n",
              "      <td>Album</td>\n",
              "    </tr>\n",
              "    <tr>\n",
              "      <th>3</th>\n",
              "      <td>0</td>\n",
              "      <td>2008-11-26 01:44:45</td>\n",
              "      <td>2009-01-05</td>\n",
              "      <td>NaN</td>\n",
              "      <td>4</td>\n",
              "      <td>1</td>\n",
              "      <td>&lt;p&gt;&lt;/p&gt;</td>\n",
              "      <td>6073</td>\n",
              "      <td>NaN</td>\n",
              "      <td>[]</td>\n",
              "      <td>AWOL - A Way Of Life</td>\n",
              "      <td>7</td>\n",
              "      <td>Album</td>\n",
              "    </tr>\n",
              "    <tr>\n",
              "      <th>5</th>\n",
              "      <td>0</td>\n",
              "      <td>2008-11-26 01:44:45</td>\n",
              "      <td>2009-01-05</td>\n",
              "      <td>NaN</td>\n",
              "      <td>4</td>\n",
              "      <td>1</td>\n",
              "      <td>&lt;p&gt;&lt;/p&gt;</td>\n",
              "      <td>6073</td>\n",
              "      <td>NaN</td>\n",
              "      <td>[]</td>\n",
              "      <td>AWOL - A Way Of Life</td>\n",
              "      <td>7</td>\n",
              "      <td>Album</td>\n",
              "    </tr>\n",
              "    <tr>\n",
              "      <th>10</th>\n",
              "      <td>0</td>\n",
              "      <td>2008-11-26 01:45:08</td>\n",
              "      <td>2008-02-06</td>\n",
              "      <td>NaN</td>\n",
              "      <td>4</td>\n",
              "      <td>6</td>\n",
              "      <td>NaN</td>\n",
              "      <td>47632</td>\n",
              "      <td>NaN</td>\n",
              "      <td>[]</td>\n",
              "      <td>Constant Hitmaker</td>\n",
              "      <td>2</td>\n",
              "      <td>Album</td>\n",
              "    </tr>\n",
              "    <tr>\n",
              "      <th>20</th>\n",
              "      <td>0</td>\n",
              "      <td>2008-11-26 01:45:05</td>\n",
              "      <td>2009-01-06</td>\n",
              "      <td>NaN</td>\n",
              "      <td>2</td>\n",
              "      <td>4</td>\n",
              "      <td>&lt;p&gt; \"spiritual songs\" from Nicky Cook&lt;/p&gt;</td>\n",
              "      <td>2710</td>\n",
              "      <td>NaN</td>\n",
              "      <td>[]</td>\n",
              "      <td>Niris</td>\n",
              "      <td>13</td>\n",
              "      <td>Album</td>\n",
              "    </tr>\n",
              "  </tbody>\n",
              "</table>\n",
              "</div>"
            ],
            "text/plain": [
              "          comments        date_created  ... tracks   type\n",
              "track_id                                ...              \n",
              "2                0 2008-11-26 01:44:45  ...      7  Album\n",
              "3                0 2008-11-26 01:44:45  ...      7  Album\n",
              "5                0 2008-11-26 01:44:45  ...      7  Album\n",
              "10               0 2008-11-26 01:45:08  ...      2  Album\n",
              "20               0 2008-11-26 01:45:05  ...     13  Album\n",
              "\n",
              "[5 rows x 13 columns]"
            ]
          },
          "metadata": {
            "tags": []
          }
        },
        {
          "output_type": "display_data",
          "data": {
            "text/html": [
              "<div>\n",
              "<style scoped>\n",
              "    .dataframe tbody tr th:only-of-type {\n",
              "        vertical-align: middle;\n",
              "    }\n",
              "\n",
              "    .dataframe tbody tr th {\n",
              "        vertical-align: top;\n",
              "    }\n",
              "\n",
              "    .dataframe thead th {\n",
              "        text-align: right;\n",
              "    }\n",
              "</style>\n",
              "<table border=\"1\" class=\"dataframe\">\n",
              "  <thead>\n",
              "    <tr style=\"text-align: right;\">\n",
              "      <th></th>\n",
              "      <th>active_year_begin</th>\n",
              "      <th>active_year_end</th>\n",
              "      <th>associated_labels</th>\n",
              "      <th>bio</th>\n",
              "      <th>comments</th>\n",
              "      <th>date_created</th>\n",
              "      <th>favorites</th>\n",
              "      <th>id</th>\n",
              "      <th>latitude</th>\n",
              "      <th>location</th>\n",
              "      <th>longitude</th>\n",
              "      <th>members</th>\n",
              "      <th>name</th>\n",
              "      <th>related_projects</th>\n",
              "      <th>tags</th>\n",
              "      <th>website</th>\n",
              "      <th>wikipedia_page</th>\n",
              "    </tr>\n",
              "    <tr>\n",
              "      <th>track_id</th>\n",
              "      <th></th>\n",
              "      <th></th>\n",
              "      <th></th>\n",
              "      <th></th>\n",
              "      <th></th>\n",
              "      <th></th>\n",
              "      <th></th>\n",
              "      <th></th>\n",
              "      <th></th>\n",
              "      <th></th>\n",
              "      <th></th>\n",
              "      <th></th>\n",
              "      <th></th>\n",
              "      <th></th>\n",
              "      <th></th>\n",
              "      <th></th>\n",
              "      <th></th>\n",
              "    </tr>\n",
              "  </thead>\n",
              "  <tbody>\n",
              "    <tr>\n",
              "      <th>2</th>\n",
              "      <td>2006-01-01</td>\n",
              "      <td>NaT</td>\n",
              "      <td>NaN</td>\n",
              "      <td>&lt;p&gt;A Way Of Life, A Collective of Hip-Hop from...</td>\n",
              "      <td>0</td>\n",
              "      <td>2008-11-26 01:42:32</td>\n",
              "      <td>9</td>\n",
              "      <td>1</td>\n",
              "      <td>40.058324</td>\n",
              "      <td>New Jersey</td>\n",
              "      <td>-74.405661</td>\n",
              "      <td>Sajje Morocco,Brownbum,ZawidaGod,Custodian of ...</td>\n",
              "      <td>AWOL</td>\n",
              "      <td>The list of past projects is 2 long but every1...</td>\n",
              "      <td>[awol]</td>\n",
              "      <td>http://www.AzillionRecords.blogspot.com</td>\n",
              "      <td>NaN</td>\n",
              "    </tr>\n",
              "    <tr>\n",
              "      <th>3</th>\n",
              "      <td>2006-01-01</td>\n",
              "      <td>NaT</td>\n",
              "      <td>NaN</td>\n",
              "      <td>&lt;p&gt;A Way Of Life, A Collective of Hip-Hop from...</td>\n",
              "      <td>0</td>\n",
              "      <td>2008-11-26 01:42:32</td>\n",
              "      <td>9</td>\n",
              "      <td>1</td>\n",
              "      <td>40.058324</td>\n",
              "      <td>New Jersey</td>\n",
              "      <td>-74.405661</td>\n",
              "      <td>Sajje Morocco,Brownbum,ZawidaGod,Custodian of ...</td>\n",
              "      <td>AWOL</td>\n",
              "      <td>The list of past projects is 2 long but every1...</td>\n",
              "      <td>[awol]</td>\n",
              "      <td>http://www.AzillionRecords.blogspot.com</td>\n",
              "      <td>NaN</td>\n",
              "    </tr>\n",
              "    <tr>\n",
              "      <th>5</th>\n",
              "      <td>2006-01-01</td>\n",
              "      <td>NaT</td>\n",
              "      <td>NaN</td>\n",
              "      <td>&lt;p&gt;A Way Of Life, A Collective of Hip-Hop from...</td>\n",
              "      <td>0</td>\n",
              "      <td>2008-11-26 01:42:32</td>\n",
              "      <td>9</td>\n",
              "      <td>1</td>\n",
              "      <td>40.058324</td>\n",
              "      <td>New Jersey</td>\n",
              "      <td>-74.405661</td>\n",
              "      <td>Sajje Morocco,Brownbum,ZawidaGod,Custodian of ...</td>\n",
              "      <td>AWOL</td>\n",
              "      <td>The list of past projects is 2 long but every1...</td>\n",
              "      <td>[awol]</td>\n",
              "      <td>http://www.AzillionRecords.blogspot.com</td>\n",
              "      <td>NaN</td>\n",
              "    </tr>\n",
              "    <tr>\n",
              "      <th>10</th>\n",
              "      <td>NaT</td>\n",
              "      <td>NaT</td>\n",
              "      <td>Mexican Summer, Richie Records, Woodsist, Skul...</td>\n",
              "      <td>&lt;p&gt;&lt;span style=\"font-family:Verdana, Geneva, A...</td>\n",
              "      <td>3</td>\n",
              "      <td>2008-11-26 01:42:55</td>\n",
              "      <td>74</td>\n",
              "      <td>6</td>\n",
              "      <td>NaN</td>\n",
              "      <td>NaN</td>\n",
              "      <td>NaN</td>\n",
              "      <td>Kurt Vile, the Violators</td>\n",
              "      <td>Kurt Vile</td>\n",
              "      <td>NaN</td>\n",
              "      <td>[philly, kurt vile]</td>\n",
              "      <td>http://kurtvile.com</td>\n",
              "      <td>NaN</td>\n",
              "    </tr>\n",
              "    <tr>\n",
              "      <th>20</th>\n",
              "      <td>1990-01-01</td>\n",
              "      <td>2011-01-01</td>\n",
              "      <td>NaN</td>\n",
              "      <td>&lt;p&gt;Songs written by: Nicky Cook&lt;/p&gt;\\n&lt;p&gt;VOCALS...</td>\n",
              "      <td>2</td>\n",
              "      <td>2008-11-26 01:42:52</td>\n",
              "      <td>10</td>\n",
              "      <td>4</td>\n",
              "      <td>51.895927</td>\n",
              "      <td>Colchester England</td>\n",
              "      <td>0.891874</td>\n",
              "      <td>Nicky Cook\\n</td>\n",
              "      <td>Nicky Cook</td>\n",
              "      <td>NaN</td>\n",
              "      <td>[instrumentals, experimental pop, post punk, e...</td>\n",
              "      <td>NaN</td>\n",
              "      <td>NaN</td>\n",
              "    </tr>\n",
              "  </tbody>\n",
              "</table>\n",
              "</div>"
            ],
            "text/plain": [
              "         active_year_begin  ... wikipedia_page\n",
              "track_id                    ...               \n",
              "2               2006-01-01  ...            NaN\n",
              "3               2006-01-01  ...            NaN\n",
              "5               2006-01-01  ...            NaN\n",
              "10                     NaT  ...            NaN\n",
              "20              1990-01-01  ...            NaN\n",
              "\n",
              "[5 rows x 17 columns]"
            ]
          },
          "metadata": {
            "tags": []
          }
        },
        {
          "output_type": "display_data",
          "data": {
            "text/html": [
              "<div>\n",
              "<style scoped>\n",
              "    .dataframe tbody tr th:only-of-type {\n",
              "        vertical-align: middle;\n",
              "    }\n",
              "\n",
              "    .dataframe tbody tr th {\n",
              "        vertical-align: top;\n",
              "    }\n",
              "\n",
              "    .dataframe thead th {\n",
              "        text-align: right;\n",
              "    }\n",
              "</style>\n",
              "<table border=\"1\" class=\"dataframe\">\n",
              "  <thead>\n",
              "    <tr style=\"text-align: right;\">\n",
              "      <th></th>\n",
              "      <th>split</th>\n",
              "      <th>subset</th>\n",
              "    </tr>\n",
              "    <tr>\n",
              "      <th>track_id</th>\n",
              "      <th></th>\n",
              "      <th></th>\n",
              "    </tr>\n",
              "  </thead>\n",
              "  <tbody>\n",
              "    <tr>\n",
              "      <th>2</th>\n",
              "      <td>training</td>\n",
              "      <td>small</td>\n",
              "    </tr>\n",
              "    <tr>\n",
              "      <th>3</th>\n",
              "      <td>training</td>\n",
              "      <td>medium</td>\n",
              "    </tr>\n",
              "    <tr>\n",
              "      <th>5</th>\n",
              "      <td>training</td>\n",
              "      <td>small</td>\n",
              "    </tr>\n",
              "    <tr>\n",
              "      <th>10</th>\n",
              "      <td>training</td>\n",
              "      <td>small</td>\n",
              "    </tr>\n",
              "    <tr>\n",
              "      <th>20</th>\n",
              "      <td>training</td>\n",
              "      <td>large</td>\n",
              "    </tr>\n",
              "  </tbody>\n",
              "</table>\n",
              "</div>"
            ],
            "text/plain": [
              "             split  subset\n",
              "track_id                  \n",
              "2         training   small\n",
              "3         training  medium\n",
              "5         training   small\n",
              "10        training   small\n",
              "20        training   large"
            ]
          },
          "metadata": {
            "tags": []
          }
        }
      ]
    },
    {
      "cell_type": "markdown",
      "metadata": {
        "id": "YA7gZ_PQ_S2Q"
      },
      "source": [
        "### Interesting features\n",
        "\n",
        "The features in the table can be interesting to improve the predictions of the model _genre classification_.\n",
        "\n",
        "| tracks[‘track’]      |   tracks[‘album’]  |   tracks[‘artist’]   |\n",
        "| -------------------- |: -----------------:| ------------------:  |\n",
        "| duration             |  favorites         | active_year_end      |\n",
        "| favorites            |     listens        | active_year_begin    |\n",
        "| interest             |                    |      comments        |\n",
        "| licence              |                    |  favorites           |\n",
        "| listens              |                    | name                 |\n",
        "\n"
      ]
    },
    {
      "cell_type": "markdown",
      "metadata": {
        "id": "JqMfhf_iWeNB"
      },
      "source": [
        "\n",
        "### Decomposition of the data in subset and train-test labels\n"
      ]
    },
    {
      "cell_type": "markdown",
      "metadata": {
        "id": "73woIqGcHjeE"
      },
      "source": [
        "Each line of the dataset tracks and features have two labels:\n",
        "* one corresponds to __test__, __train__ or __validation__\n",
        "* the other corresponds to __small__, __medium__ or __large__\n",
        "It is a tool that allows to simplify the training and validation of a model."
      ]
    },
    {
      "cell_type": "code",
      "metadata": {
        "colab": {
          "base_uri": "https://localhost:8080/"
        },
        "id": "0Wa7WfTV1C5C",
        "outputId": "e97f52bd-d39c-4bfe-f603-9741b15dac12"
      },
      "source": [
        "# Let's look at the number of data in each subset\n",
        "train = tracks['set', 'split'] == 'training'\n",
        "test = tracks['set', 'split'] == 'test'\n",
        "for subset in ['small', 'medium', 'large']:\n",
        "    sub = tracks['set', 'subset'] <= subset\n",
        "    args = [subset, *tracks.loc[sub].shape, *tracks.loc[sub & train].shape]\n",
        "    args += [*tracks.loc[sub & test].shape]\n",
        "    print(\"{:<10}{:>8}   train ({:<3}{:>5})   test ({:<3}{:>5})\".format(*args))\n",
        "    print(\"{:-^60}\".format(\"\"))"
      ],
      "execution_count": null,
      "outputs": [
        {
          "output_type": "stream",
          "text": [
            "small         8000   train (52  6400)   test (52   800)\n",
            "------------------------------------------------------------\n",
            "medium       25000   train (52 19922)   test (52  2573)\n",
            "------------------------------------------------------------\n",
            "large       106574   train (52 84353)   test (52 11263)\n",
            "------------------------------------------------------------\n"
          ],
          "name": "stdout"
        }
      ]
    },
    {
      "cell_type": "markdown",
      "metadata": {
        "id": "f1LTnP_wWrlf"
      },
      "source": [
        "## Study of the target column __genre_top__"
      ]
    },
    {
      "cell_type": "markdown",
      "metadata": {
        "id": "9SQUwvvvIUvI"
      },
      "source": [
        "The column _genre_top_ is our target variable. That's why we will deeply inscpect this column in order to have the higher number of lines with a coherent genre."
      ]
    },
    {
      "cell_type": "code",
      "metadata": {
        "colab": {
          "base_uri": "https://localhost:8080/"
        },
        "id": "CCzhQ4uhEmjk",
        "outputId": "0f07dff3-594f-4916-df42-3df04bf666c9"
      },
      "source": [
        "col_name = ('track', 'genre_top')\n",
        "df_genre_top = tracks[[('track', 'title'), col_name]].groupby([col_name])\n",
        "print(df_genre_top.count())\n",
        "tot = df_genre_top.count().sum()\n",
        "print(\"\\nThe number of valid lines: {}\".format(tot))"
      ],
      "execution_count": null,
      "outputs": [
        {
          "output_type": "stream",
          "text": [
            "                     track\n",
            "                     title\n",
            "(track, genre_top)        \n",
            "Blues                  110\n",
            "Classical             1230\n",
            "Country                194\n",
            "Easy Listening          24\n",
            "Electronic            9371\n",
            "Experimental         10608\n",
            "Folk                  2803\n",
            "Hip-Hop               3552\n",
            "Instrumental          2079\n",
            "International         1389\n",
            "Jazz                   571\n",
            "Old-Time / Historic    554\n",
            "Pop                   2332\n",
            "Rock                 14182\n",
            "Soul-RnB               175\n",
            "Spoken                 423\n",
            "\n",
            "The number of valid lines: track  title    49597\n",
            "dtype: int64\n"
          ],
          "name": "stdout"
        }
      ]
    },
    {
      "cell_type": "markdown",
      "metadata": {
        "id": "HMx-hDYrDy67"
      },
      "source": [
        "We can see that there are some NaN in the _tracks[('tracks', 'genre_top')]_ columns. An idea is to use one of the genres in the columns _genre_all_ to replace the missing values by a coherent genre."
      ]
    },
    {
      "cell_type": "markdown",
      "metadata": {
        "id": "2IHbvWkZIylp"
      },
      "source": [
        "#### Creation of a dictionary that will help us remplace _NaN_ values."
      ]
    },
    {
      "cell_type": "code",
      "metadata": {
        "colab": {
          "base_uri": "https://localhost:8080/"
        },
        "id": "X-AsWx9aHYCV",
        "outputId": "20214fff-1663-4aef-90cb-c2b09b490550"
      },
      "source": [
        "# Construction of a dictionary with the id of the genre associated with the\n",
        "# genre title\n",
        "genres.head()\n",
        "dict_genres = {}\n",
        "for genre_id, content in genres.title.items():\n",
        "    if genre_id not in dict_genres.keys():\n",
        "        dict_genres[genre_id] = content\n",
        "\n",
        "print(\"Number of different genres {}.\\n\".format(len(dict_genres)))\n",
        "for genre_id, title_genre in dict_genres.items():\n",
        "    print(\"{:4.0f}{:->30s}\".format(genre_id, str(title_genre)))"
      ],
      "execution_count": null,
      "outputs": [
        {
          "output_type": "stream",
          "text": [
            "Number of different genres 163.\n",
            "\n",
            "   1-------------------Avant-Garde\n",
            "   2-----------------International\n",
            "   3-------------------------Blues\n",
            "   4--------------------------Jazz\n",
            "   5---------------------Classical\n",
            "   6-----------------------Novelty\n",
            "   7------------------------Comedy\n",
            "   8-----------Old-Time / Historic\n",
            "   9-----------------------Country\n",
            "  10---------------------------Pop\n",
            "  11-------------------------Disco\n",
            "  12--------------------------Rock\n",
            "  13----------------Easy Listening\n",
            "  14----------------------Soul-RnB\n",
            "  15--------------------Electronic\n",
            "  16-----------------Sound Effects\n",
            "  17--------------------------Folk\n",
            "  18--------------------Soundtrack\n",
            "  19--------------------------Funk\n",
            "  20------------------------Spoken\n",
            "  21-----------------------Hip-Hop\n",
            "  22-----------------Audio Collage\n",
            "  25--------------------------Punk\n",
            "  26---------------------Post-Rock\n",
            "  27-------------------------Lo-Fi\n",
            "  30--------------Field Recordings\n",
            "  31-------------------------Metal\n",
            "  32-------------------------Noise\n",
            "  33--------------------Psych-Folk\n",
            "  36---------------------Krautrock\n",
            "  37-------------------Jazz: Vocal\n",
            "  38------------------Experimental\n",
            "  41---------------Electroacoustic\n",
            "  42------------Ambient Electronic\n",
            "  43---------------------Radio Art\n",
            "  45---------------------Loud-Rock\n",
            "  46-----------------Latin America\n",
            "  47-------------------------Drone\n",
            "  49---------------------Free-Folk\n",
            "  53--------------------Noise-Rock\n",
            "  58--------------------Psych-Rock\n",
            "  63---------------------Bluegrass\n",
            "  64------------------Electro-Punk\n",
            "  65-------------------------Radio\n",
            "  66--------------------Indie-Rock\n",
            "  70--------------------Industrial\n",
            "  71-----------------------No Wave\n",
            "  74---------------------Free-Jazz\n",
            "  76--------------Experimental Pop\n",
            "  77------------------------French\n",
            "  79------------------Reggae - Dub\n",
            "  81----------------------Afrobeat\n",
            "  83----------------------Nerdcore\n",
            "  85------------------------Garage\n",
            "  86------------------------Indian\n",
            "  88----------------------New Wave\n",
            "  89---------------------Post-Punk\n",
            "  90------------------------Sludge\n",
            "  92-----------------------African\n",
            "  94--------------------Freak-Folk\n",
            "  97---------------------Jazz: Out\n",
            "  98-------------------Progressive\n",
            " 100-----------Alternative Hip-Hop\n",
            " 101-------------------Death-Metal\n",
            " 102-------------------Middle East\n",
            " 103-------------Singer-Songwriter\n",
            " 107-----------------------Ambient\n",
            " 109----------------------Hardcore\n",
            " 111---------------------Power-Pop\n",
            " 113--------------------Space-Rock\n",
            " 117-------------------------Polka\n",
            " 118------------------------Balkan\n",
            " 125----------------Unclassifiable\n",
            " 130------------------------Europe\n",
            " 137---------------------Americana\n",
            " 138------------------Spoken Weird\n",
            " 166---------------------Interview\n",
            " 167-------------------Black-Metal\n",
            " 169--------------------Rockabilly\n",
            " 170---------Easy Listening: Vocal\n",
            " 171---------------------Brazilian\n",
            " 172-----------------Asia-Far East\n",
            " 173---------N. Indian Traditional\n",
            " 174------South Indian Traditional\n",
            " 175---------------------Bollywood\n",
            " 176-----------------------Pacific\n",
            " 177------------------------Celtic\n",
            " 178------------------------Be-Bop\n",
            " 179----------------Big Band/Swing\n",
            " 180------------------British Folk\n",
            " 181------------------------Techno\n",
            " 182-------------------------House\n",
            " 183------------------------Glitch\n",
            " 184------------Minimal Electronic\n",
            " 185--------------Breakcore - Hard\n",
            " 186------------------Sound Poetry\n",
            " 187--------20th Century Classical\n",
            " 188------------------------Poetry\n",
            " 189--------------------Talk Radio\n",
            " 214-----------------North African\n",
            " 224-----------------Sound Collage\n",
            " 232----------------------Flamenco\n",
            " 236---------------------------IDM\n",
            " 240----------------------Chiptune\n",
            " 247--------------Musique Concrete\n",
            " 250------------------------Improv\n",
            " 267-----------------------New Age\n",
            " 286----------------------Trip-Hop\n",
            " 296-------------------------Dance\n",
            " 297--------------------Chip Music\n",
            " 311------------------------Lounge\n",
            " 314--------------------------Goth\n",
            " 322----------------Composed Music\n",
            " 337-------------------Drum & Bass\n",
            " 359----------------------Shoegaze\n",
            " 360------------------Kid-Friendly\n",
            " 361------------------------Thrash\n",
            " 362---------------------Synth Pop\n",
            " 374------------------------Banter\n",
            " 377---------------------Deep Funk\n",
            " 378-------------------Spoken Word\n",
            " 400---------------------Chill-out\n",
            " 401-----------------------Bigbeat\n",
            " 404--------------------------Surf\n",
            " 428-----------------Radio Theater\n",
            " 439---------------------Grindcore\n",
            " 440--------------------Rock Opera\n",
            " 441-------------------------Opera\n",
            " 442-----------------Chamber Music\n",
            " 443------------------Choral Music\n",
            " 444----------------------Symphony\n",
            " 456--------------------Minimalism\n",
            " 465---------------Musical Theater\n",
            " 468-----------------------Dubstep\n",
            " 491------------------------Skweee\n",
            " 493-----------------Western Swing\n",
            " 495---------------------Downtempo\n",
            " 502------------------------Cumbia\n",
            " 504-------------------------Latin\n",
            " 514---------------------Sound Art\n",
            " 524----------------Romany (Gypsy)\n",
            " 538-------------------Compilation\n",
            " 539---------------------------Rap\n",
            " 542---------------------Breakbeat\n",
            " 567------------------------Gospel\n",
            " 580--------------Abstract Hip-Hop\n",
            " 602------------Reggae - Dancehall\n",
            " 619-----------------------Spanish\n",
            " 651-------------Country & Western\n",
            " 659--------Contemporary Classical\n",
            " 693-------------------------Wonky\n",
            " 695------------------------Jungle\n",
            " 741-----------------------Klezmer\n",
            " 763-----------------------Holiday\n",
            " 808-------------------------Salsa\n",
            " 810-----------------------Nu-Jazz\n",
            " 811-----------------Hip-Hop Beats\n",
            " 906-------------------Modern Jazz\n",
            "1032-----------------------Turkish\n",
            "1060-------------------------Tango\n",
            "1156--------------------------Fado\n",
            "1193---------------------Christmas\n",
            "1235------------------Instrumental\n"
          ],
          "name": "stdout"
        }
      ]
    },
    {
      "cell_type": "markdown",
      "metadata": {
        "id": "SnaK6lkwI74y"
      },
      "source": [
        "#### The number of tracks associated to each genre of the dataset"
      ]
    },
    {
      "cell_type": "code",
      "metadata": {
        "colab": {
          "base_uri": "https://localhost:8080/"
        },
        "id": "WQjyiKlKHYrv",
        "outputId": "2fbd0501-07d5-4f90-dc40-13d626d8ee3f"
      },
      "source": [
        "# Let's look at all the genres in the dataset\n",
        "dico_nbtracks = {}\n",
        "# We use the values in the column genres that contains the ids of all genres\n",
        "# associated to a track\n",
        "for id_track, genre_track in tracks[('track', 'genres')].items():\n",
        "    for unique_genre in genre_track:\n",
        "        title_g = dict_genres[unique_genre]\n",
        "        dico_nbtracks[title_g] = dico_nbtracks.get(title_g, 0) + 1\n",
        "\n",
        "st_dico_nbtracks = dict(sorted(dico_nbtracks.items(),\n",
        "                               key=lambda x: x[1],\n",
        "                               reverse=True))\n",
        "\n",
        "print(\"{:<30}   {:>20}\".format(\"genre\", \"nb_tracks\"))\n",
        "print(\"{:-^60}\".format(\"\"))\n",
        "for title_genre, nb_tracks in st_dico_nbtracks.items():\n",
        "    print(\"{:<30s}   {:>20}\".format(title_genre, nb_tracks))\n",
        "\n",
        "sum_genres = sum((nb for nb in st_dico_nbtracks.values()))\n",
        "print(\"{:-^60}\".format(\"\"))\n",
        "print(\"\\nThe total nb of genres associated to the tracks {}\".format(sum_genres))\n",
        "print(\"It makes {:.2f} genres per track\".format(sum_genres/len(tracks)))\n"
      ],
      "execution_count": null,
      "outputs": [
        {
          "output_type": "stream",
          "text": [
            "genre                                       nb_tracks\n",
            "------------------------------------------------------------\n",
            "Experimental                                    24912\n",
            "Electronic                                      23866\n",
            "Avant-Garde                                      8693\n",
            "Rock                                             8038\n",
            "Noise                                            7268\n",
            "Ambient                                          7206\n",
            "Experimental Pop                                 7144\n",
            "Folk                                             7105\n",
            "Pop                                              6362\n",
            "Electroacoustic                                  6110\n",
            "Instrumental                                     6055\n",
            "Lo-Fi                                            6041\n",
            "Hip-Hop                                          5922\n",
            "Ambient Electronic                               5723\n",
            "Soundtrack                                       5575\n",
            "Indie-Rock                                       5432\n",
            "Punk                                             5421\n",
            "Improv                                           4261\n",
            "Singer-Songwriter                                4162\n",
            "IDM                                              3472\n",
            "Garage                                           3373\n",
            "Field Recordings                                 3237\n",
            "Musique Concrete                                 2957\n",
            "Glitch                                           2809\n",
            "Drone                                            2546\n",
            "Psych-Rock                                       2502\n",
            "Jazz                                             2487\n",
            "Psych-Folk                                       2267\n",
            "Industrial                                       2230\n",
            "Classical                                        2101\n",
            "Downtempo                                        2061\n",
            "Techno                                           2014\n",
            "Sound Collage                                    1916\n",
            "Noise-Rock                                       1866\n",
            "Post-Punk                                        1858\n",
            "Synth Pop                                        1835\n",
            "International                                    1828\n",
            "Trip-Hop                                         1751\n",
            "Blues                                            1695\n",
            "Chip Music                                       1674\n",
            "Free-Jazz                                        1531\n",
            "Unclassifiable                                   1511\n",
            "Post-Rock                                        1477\n",
            "Dance                                            1414\n",
            "Sound Art                                        1414\n",
            "Minimalism                                       1392\n",
            "Hardcore                                         1329\n",
            "Freak-Folk                                       1289\n",
            "Contemporary Classical                           1239\n",
            "Chiptune                                         1231\n",
            "Hip-Hop Beats                                    1192\n",
            "Dubstep                                          1082\n",
            "Minimal Electronic                               1013\n",
            "Power-Pop                                        1003\n",
            "Americana                                         994\n",
            "Metal                                             934\n",
            "Old-Time / Historic                               868\n",
            "Country                                           854\n",
            "Chill-out                                         823\n",
            "Reggae - Dub                                      817\n",
            "Progressive                                       795\n",
            "Audio Collage                                     774\n",
            "Funk                                              772\n",
            "Shoegaze                                          762\n",
            "Free-Folk                                         753\n",
            "Alternative Hip-Hop                               740\n",
            "Breakbeat                                         735\n",
            "House                                             734\n",
            "Krautrock                                         688\n",
            "Sound Poetry                                      682\n",
            "Rap                                               638\n",
            "Composed Music                                    630\n",
            "Balkan                                            608\n",
            "No Wave                                           600\n",
            "Electro-Punk                                      563\n",
            "Loud-Rock                                         548\n",
            "Soul-RnB                                          520\n",
            "New Wave                                          517\n",
            "Breakcore - Hard                                  511\n",
            "Drum & Bass                                       500\n",
            "Latin America                                     496\n",
            "Spoken Weird                                      490\n",
            "Space-Rock                                        484\n",
            "Goth                                              482\n",
            "Europe                                            473\n",
            "Novelty                                           443\n",
            "Lounge                                            440\n",
            "French                                            387\n",
            "Disco                                             367\n",
            "New Age                                           360\n",
            "Compilation                                       338\n",
            "Grindcore                                         314\n",
            "Poetry                                            301\n",
            "Spoken                                            293\n",
            "20th Century Classical                            292\n",
            "Jazz: Out                                         291\n",
            "Surf                                              265\n",
            "Jungle                                            258\n",
            "Sludge                                            251\n",
            "Brazilian                                         234\n",
            "Holiday                                           227\n",
            "Comedy                                            217\n",
            "Choral Music                                      216\n",
            "Radio Art                                         210\n",
            "Abstract Hip-Hop                                  202\n",
            "Kid-Friendly                                      201\n",
            "African                                           198\n",
            "Indian                                            197\n",
            "Death-Metal                                       196\n",
            "Bigbeat                                           189\n",
            "Bluegrass                                         178\n",
            "Easy Listening                                    177\n",
            "Spoken Word                                       177\n",
            "Thrash                                            175\n",
            "Chamber Music                                     170\n",
            "Radio                                             166\n",
            "Opera                                             161\n",
            "British Folk                                      161\n",
            "Black-Metal                                       152\n",
            "Middle East                                       144\n",
            "Rockabilly                                        128\n",
            "Interview                                         122\n",
            "Nu-Jazz                                           120\n",
            "Asia-Far East                                     118\n",
            "Rock Opera                                        116\n",
            "Spanish                                           115\n",
            "Latin                                             114\n",
            "Romany (Gypsy)                                    112\n",
            "Afrobeat                                          110\n",
            "Modern Jazz                                       107\n",
            "Big Band/Swing                                    104\n",
            "Jazz: Vocal                                        97\n",
            "Reggae - Dancehall                                 94\n",
            "Nerdcore                                           84\n",
            "Skweee                                             78\n",
            "Country & Western                                  75\n",
            "Radio Theater                                      73\n",
            "Celtic                                             72\n",
            "Christmas                                          72\n",
            "Cumbia                                             67\n",
            "Gospel                                             66\n",
            "Polka                                              62\n",
            "Turkish                                            60\n",
            "Klezmer                                            57\n",
            "Wonky                                              56\n",
            "Flamenco                                           47\n",
            "Easy Listening: Vocal                              47\n",
            "North African                                      40\n",
            "Sound Effects                                      36\n",
            "Tango                                              30\n",
            "Fado                                               26\n",
            "Talk Radio                                         26\n",
            "Symphony                                           25\n",
            "Pacific                                            23\n",
            "Musical Theater                                    18\n",
            "South Indian Traditional                           17\n",
            "Salsa                                              12\n",
            "Banter                                              9\n",
            "Western Swing                                       4\n",
            "N. Indian Traditional                               4\n",
            "Deep Funk                                           1\n",
            "------------------------------------------------------------\n",
            "\n",
            "The total nb of genres associated to the tracks 253869\n",
            "It makes 2.38 genres per track\n"
          ],
          "name": "stdout"
        }
      ]
    },
    {
      "cell_type": "markdown",
      "metadata": {
        "id": "8oett4o0rdMY"
      },
      "source": [
        "### Creation of a new target variable with more values\n",
        "\n",
        "A first idea would be to create a new column similar to _genre_top_ but by remplacing the NaN by the genre with the highest number of tracks in the _genres_ column."
      ]
    },
    {
      "cell_type": "code",
      "metadata": {
        "colab": {
          "base_uri": "https://localhost:8080/"
        },
        "id": "ZDi7Ob44qVyc",
        "outputId": "e5be847d-c689-4d80-8f3a-8f65be4a823e"
      },
      "source": [
        "# st_dico_nbtracks -> {genre_title: nb_tracks}\n",
        "# dict_genres -> {id_genre: genre_title}\n",
        "new_column = []\n",
        "n1 = ('track', 'genres')\n",
        "n2 = ('track', 'genre_top')\n",
        "nan_indexes = []\n",
        "# We iterate on the columns genres and genre_top to eventually replace the NaN\n",
        "# in the genre_top by the most popular genre in genres\n",
        "for (index, list_genres), (_, top_genre) in zip(tracks[n1].items(), \n",
        "                                                tracks[n2].items()):\n",
        "    # If NaN, we replace by a most popular genre in genres\n",
        "    try:\n",
        "        if math.isnan(top_genre):\n",
        "            # list with tuples [(genre_title, nb_tracks), ...]\n",
        "            genre_and_pop = [(dict_genres[id_genre],\n",
        "                              st_dico_nbtracks[dict_genres[id_genre]])\n",
        "                            for id_genre in list_genres]\n",
        "            # We sort this list by the number of tracks\n",
        "            st_genre_and_pop = list(sorted(genre_and_pop,\n",
        "                                          key=lambda x: x[1],\n",
        "                                          reverse=True))\n",
        "            # We keep only genre with at least 1000 tracks in the dataset\n",
        "            filter_st_genre_and_pop = list(filter(lambda x: x[1] >= 1000,\n",
        "                                                  st_genre_and_pop))\n",
        "            if len(filter_st_genre_and_pop) > 0:\n",
        "                # We add the most popular genre\n",
        "                new_column.append(filter_st_genre_and_pop[0][0])\n",
        "            else:\n",
        "                # If no genre, we should remove this line\n",
        "                # We add a random genre in new_column since it will be removed\n",
        "                # anyway\n",
        "                new_column.append(\"IDM\")\n",
        "                nan_indexes.append(index)\n",
        "    except:\n",
        "        # If there is a top_genre we do nothing\n",
        "        new_column.append(top_genre)\n",
        "        # If the top_genre has less than 1000 tracks we will delete this line\n",
        "        if st_dico_nbtracks[top_genre] < 1000:\n",
        "            nan_indexes.append(index)\n",
        "\n",
        "# Printing of the results\n",
        "set_genres = set(new_column)\n",
        "not_popular_top_genres = [gr for gr in set_genres\n",
        "                          if st_dico_nbtracks[gr] < 1000]\n",
        "nb = len(set_genres) - len(not_popular_top_genres)\n",
        "print(\"There are {:*^11} different genres in the new column\".format(nb))\n",
        "print(\"{:-^75}\".format(\"\"))\n",
        "print(\"We must drop {:>11} indexes.\".format(len(nan_indexes)))\n",
        "print(\"{:-^75}\".format(\"\"))\n",
        "for different_genre in set_genres:\n",
        "    args = [different_genre, st_dico_nbtracks[different_genre]]\n",
        "    print(\"genre new col {:^25s} nb tracks {:->20}\".format(*args))\n"
      ],
      "execution_count": null,
      "outputs": [
        {
          "output_type": "stream",
          "text": [
            "There are ****54***** different genres in the new column\n",
            "---------------------------------------------------------------------------\n",
            "We must drop        4146 indexes.\n",
            "---------------------------------------------------------------------------\n",
            "genre new col        Psych-Folk         nb tracks ----------------2267\n",
            "genre new col           Punk            nb tracks ----------------5421\n",
            "genre new col         Classical         nb tracks ----------------2101\n",
            "genre new col          Garage           nb tracks ----------------3373\n",
            "genre new col     Singer-Songwriter     nb tracks ----------------4162\n",
            "genre new col          Ambient          nb tracks ----------------7206\n",
            "genre new col        Minimalism         nb tracks ----------------1392\n",
            "genre new col  Contemporary Classical   nb tracks ----------------1239\n",
            "genre new col         Post-Rock         nb tracks ----------------1477\n",
            "genre new col      Electroacoustic      nb tracks ----------------6110\n",
            "genre new col           Drone           nb tracks ----------------2546\n",
            "genre new col          Improv           nb tracks ----------------4261\n",
            "genre new col       Instrumental        nb tracks ----------------6055\n",
            "genre new col         Downtempo         nb tracks ----------------2061\n",
            "genre new col         Free-Jazz         nb tracks ----------------1531\n",
            "genre new col      Easy Listening       nb tracks -----------------177\n",
            "genre new col           Rock            nb tracks ----------------8038\n",
            "genre new col        Freak-Folk         nb tracks ----------------1289\n",
            "genre new col          Spoken           nb tracks -----------------293\n",
            "genre new col         Trip-Hop          nb tracks ----------------1751\n",
            "genre new col     Experimental Pop      nb tracks ----------------7144\n",
            "genre new col         Hardcore          nb tracks ----------------1329\n",
            "genre new col      Unclassifiable       nb tracks ----------------1511\n",
            "genre new col           Folk            nb tracks ----------------7105\n",
            "genre new col           Dance           nb tracks ----------------1414\n",
            "genre new col         Post-Punk         nb tracks ----------------1858\n",
            "genre new col           Noise           nb tracks ----------------7268\n",
            "genre new col          Country          nb tracks -----------------854\n",
            "genre new col          Hip-Hop          nb tracks ----------------5922\n",
            "genre new col        Electronic         nb tracks ---------------23866\n",
            "genre new col          Glitch           nb tracks ----------------2809\n",
            "genre new col            Pop            nb tracks ----------------6362\n",
            "genre new col     Musique Concrete      nb tracks ----------------2957\n",
            "genre new col       Hip-Hop Beats       nb tracks ----------------1192\n",
            "genre new col          Techno           nb tracks ----------------2014\n",
            "genre new col        Industrial         nb tracks ----------------2230\n",
            "genre new col        Soundtrack         nb tracks ----------------5575\n",
            "genre new col         Power-Pop         nb tracks ----------------1003\n",
            "genre new col        Chip Music         nb tracks ----------------1674\n",
            "genre new col    Ambient Electronic     nb tracks ----------------5723\n",
            "genre new col    Minimal Electronic     nb tracks ----------------1013\n",
            "genre new col         Synth Pop         nb tracks ----------------1835\n",
            "genre new col       Sound Collage       nb tracks ----------------1916\n",
            "genre new col         Chiptune          nb tracks ----------------1231\n",
            "genre new col           Jazz            nb tracks ----------------2487\n",
            "genre new col       International       nb tracks ----------------1828\n",
            "genre new col        Indie-Rock         nb tracks ----------------5432\n",
            "genre new col    Old-Time / Historic    nb tracks -----------------868\n",
            "genre new col        Psych-Rock         nb tracks ----------------2502\n",
            "genre new col          Dubstep          nb tracks ----------------1082\n",
            "genre new col     Field Recordings      nb tracks ----------------3237\n",
            "genre new col           Lo-Fi           nb tracks ----------------6041\n",
            "genre new col         Sound Art         nb tracks ----------------1414\n",
            "genre new col            IDM            nb tracks ----------------3472\n",
            "genre new col        Avant-Garde        nb tracks ----------------8693\n",
            "genre new col       Experimental        nb tracks ---------------24912\n",
            "genre new col           Blues           nb tracks ----------------1695\n",
            "genre new col        Noise-Rock         nb tracks ----------------1866\n",
            "genre new col         Soul-RnB          nb tracks -----------------520\n"
          ],
          "name": "stdout"
        }
      ]
    },
    {
      "cell_type": "markdown",
      "metadata": {
        "id": "e9G03zRd0rXO"
      },
      "source": [
        "We can see that there are still genres with less than 1000 tracks in the dataset. It corresponds in fact to some of the genres in the column _genre_top_. We should also remove this values that will be very hard to classify with so little data."
      ]
    },
    {
      "cell_type": "markdown",
      "metadata": {
        "id": "liM833r84t8B"
      },
      "source": [
        "We end up with a new column with 54 different genres. It would probably be difficult to classify efficiently with so many classes, but we have dropped only 4000 lines.\n",
        "A next step could be to aggregate close labels to reduce this high number of classes."
      ]
    },
    {
      "cell_type": "markdown",
      "metadata": {
        "id": "QdYanqheKKF8"
      },
      "source": [
        "### We create a new column _target_genre_ with no _NaN_ values."
      ]
    },
    {
      "cell_type": "markdown",
      "metadata": {
        "id": "HH3FWfsFKUG3"
      },
      "source": [
        "We will try to predict the classes in that column."
      ]
    },
    {
      "cell_type": "code",
      "metadata": {
        "colab": {
          "base_uri": "https://localhost:8080/"
        },
        "id": "HVaRKquZwad0",
        "outputId": "b99a5874-eb99-4f00-f6bc-4166e2203674"
      },
      "source": [
        "tracks[('track', 'target_genre')] = new_column\n",
        "tracks_reduced = tracks.copy()\n",
        "before = \"Initial shape of tracks\"\n",
        "after = \"New shape of tracks_reduced\"\n",
        "print(\"{:30s} {:>20}\".format(before, str(tracks_reduced.shape)))\n",
        "tracks_reduced.drop(nan_indexes, inplace=True)\n",
        "print(\"{:30s} {:>20}\".format(after, str(tracks_reduced.shape)))\n",
        "print(\"\\n{:-^75}\\n\".format(\"\"))\n",
        "\n",
        "# We should also do that on features\n",
        "before2 = \"Initial shape of features\"\n",
        "after2 = \"New shape of features_reduced\"\n",
        "features_reduced = features.copy()\n",
        "print(\"{:30s} {:>20}\".format(before2, str(features_reduced.shape)))\n",
        "features_reduced.drop(nan_indexes, inplace=True)\n",
        "print(\"{:30s} {:>20}\".format(after2, str(features_reduced.shape)))"
      ],
      "execution_count": null,
      "outputs": [
        {
          "output_type": "stream",
          "text": [
            "Initial shape of tracks                (106574, 53)\n",
            "New shape of tracks_reduced            (102428, 53)\n",
            "\n",
            "---------------------------------------------------------------------------\n",
            "\n",
            "Initial shape of features             (106574, 518)\n",
            "New shape of features_reduced         (102428, 518)\n"
          ],
          "name": "stdout"
        }
      ]
    },
    {
      "cell_type": "markdown",
      "metadata": {
        "id": "cjrezvhmKayR"
      },
      "source": [
        "#### Verification of the genres in the column target_genre"
      ]
    },
    {
      "cell_type": "code",
      "metadata": {
        "colab": {
          "base_uri": "https://localhost:8080/"
        },
        "id": "HC7eJ4_L__on",
        "outputId": "d9f1458a-d8ca-4acd-d1a8-3041c256b0b5"
      },
      "source": [
        "# Let's look at the classes and the number of tracks in the dataset\n",
        "list_see = [(genre_new_col, st_dico_nbtracks[genre_new_col])\n",
        "            for genre_new_col in set(tracks_reduced[('track', 'target_genre')])]\n",
        "st_list_see = list(sorted(list_see, key=lambda x: x[1], reverse=True))\n",
        "for genre_new_col, nb_tr in st_list_see:\n",
        "    print(\"{:30} {:>10} tracks\".format(genre_new_col, nb_tr))\n"
      ],
      "execution_count": null,
      "outputs": [
        {
          "output_type": "stream",
          "text": [
            "Experimental                        24912 tracks\n",
            "Electronic                          23866 tracks\n",
            "Avant-Garde                          8693 tracks\n",
            "Rock                                 8038 tracks\n",
            "Noise                                7268 tracks\n",
            "Ambient                              7206 tracks\n",
            "Experimental Pop                     7144 tracks\n",
            "Folk                                 7105 tracks\n",
            "Pop                                  6362 tracks\n",
            "Electroacoustic                      6110 tracks\n",
            "Instrumental                         6055 tracks\n",
            "Lo-Fi                                6041 tracks\n",
            "Hip-Hop                              5922 tracks\n",
            "Ambient Electronic                   5723 tracks\n",
            "Soundtrack                           5575 tracks\n",
            "Indie-Rock                           5432 tracks\n",
            "Punk                                 5421 tracks\n",
            "Improv                               4261 tracks\n",
            "Singer-Songwriter                    4162 tracks\n",
            "IDM                                  3472 tracks\n",
            "Garage                               3373 tracks\n",
            "Field Recordings                     3237 tracks\n",
            "Musique Concrete                     2957 tracks\n",
            "Glitch                               2809 tracks\n",
            "Drone                                2546 tracks\n",
            "Psych-Rock                           2502 tracks\n",
            "Jazz                                 2487 tracks\n",
            "Psych-Folk                           2267 tracks\n",
            "Industrial                           2230 tracks\n",
            "Classical                            2101 tracks\n",
            "Downtempo                            2061 tracks\n",
            "Techno                               2014 tracks\n",
            "Sound Collage                        1916 tracks\n",
            "Noise-Rock                           1866 tracks\n",
            "Post-Punk                            1858 tracks\n",
            "Synth Pop                            1835 tracks\n",
            "International                        1828 tracks\n",
            "Trip-Hop                             1751 tracks\n",
            "Blues                                1695 tracks\n",
            "Chip Music                           1674 tracks\n",
            "Free-Jazz                            1531 tracks\n",
            "Unclassifiable                       1511 tracks\n",
            "Post-Rock                            1477 tracks\n",
            "Dance                                1414 tracks\n",
            "Sound Art                            1414 tracks\n",
            "Minimalism                           1392 tracks\n",
            "Hardcore                             1329 tracks\n",
            "Freak-Folk                           1289 tracks\n",
            "Contemporary Classical               1239 tracks\n",
            "Chiptune                             1231 tracks\n",
            "Hip-Hop Beats                        1192 tracks\n",
            "Dubstep                              1082 tracks\n",
            "Minimal Electronic                   1013 tracks\n",
            "Power-Pop                            1003 tracks\n"
          ],
          "name": "stdout"
        }
      ]
    },
    {
      "cell_type": "markdown",
      "metadata": {
        "id": "aOJopUXIBMD9"
      },
      "source": [
        "Let's aggregate some genres:\n",
        "\n",
        "* Power-Pop and Pop\n",
        "* Minimal Electronic and Electronic\n",
        "* Dubstep and techno\n",
        "* Hip-Hop beats and Hip-Hop\n",
        "* Chiptune, Chip Music and techno\n",
        "* Contemporary Classical and Classical\n",
        "* Freak-Folk and Folk\n",
        "* Free-Jazz and Jazz\n",
        "* Minimalism and Instrumental\n",
        "* Post-rock and Rock and Indie-Rock\n",
        "\n",
        "Let's drop:\n",
        "* Hardcore\n",
        "* Unclassifiable\n",
        "* Sound Art\n",
        "* Dance\n",
        "* Blues\n",
        "* ound Collage\n",
        "* Synth Pop\n",
        "* International\n",
        "* Trip-Hop\n",
        "* Punk\n",
        "* Improv\n",
        "* Singer-Songwriter\n",
        "* IDM\n",
        "* Garage\n",
        "* Drone\n",
        "* Glitch\n",
        "* Psych-Rock\n",
        "* Psych-Folk\n",
        "* Downtempo\n",
        "* Techno"
      ]
    },
    {
      "cell_type": "markdown",
      "metadata": {
        "id": "KqQFRZ8GK_h-"
      },
      "source": [
        "#### Aggregation of come classes and removing of genres with very little tracks in the dataset"
      ]
    },
    {
      "cell_type": "code",
      "metadata": {
        "colab": {
          "base_uri": "https://localhost:8080/"
        },
        "id": "lQXKiHsCxsOW",
        "outputId": "88c0f85c-0081-47df-f2d8-f43f680db317"
      },
      "source": [
        "dico_remplacement = {'Power-Pop': 'Pop',\n",
        "                     'Minimal Electronic': 'Electronic',\n",
        "                     'Dubstep': 'techno',\n",
        "                     'Hip-Hop beats': 'Hip-Hop',\n",
        "                     'Chiptune': 'techno',\n",
        "                     'Chip Music': 'techno',\n",
        "                     'Contemporary Classical': 'Classical',\n",
        "                     'Freak-Folk': 'Folk',\n",
        "                     'Free-Jazz': 'Jazz',\n",
        "                     'Minimalism': 'Instrumental',\n",
        "                     'Post-rock': 'Rock', \n",
        "                     'Indie-Rock': 'Rock',\n",
        "                     'Noise-Rock': 'Rock',\n",
        "                     'Post-Punk': 'Punk',\n",
        "                     'Ambient Electronic ': 'Ambient'}\n",
        "\n",
        "to_drop = ['Hardcore', 'Unclassifiable', 'Sound Art', 'Dance', 'Blues']\n",
        "to_drop += ['Sound Collage', 'Synth Pop', 'International', 'Trip-Hop']\n",
        "to_drop += ['Punk', 'Improv', 'Singer-Songwriter', 'IDM', 'Garage', 'Drone']\n",
        "to_drop += ['Glitch', 'Psych-Rock', 'Psych-Folk', 'Downtempo', 'Techno']                                  \n",
        "\n",
        "new_column_2, bad_indexes = [], []\n",
        "rplcmt, dro = 0, 0\n",
        "for index, target_gr in tracks_reduced[('track', 'target_genre')].items():\n",
        "    # We replace by a bigger connected genre\n",
        "    if target_gr in dico_remplacement.keys():\n",
        "        new_column_2.append(dico_remplacement[target_gr])\n",
        "        rplcmt += 1\n",
        "    # We check if this is to drop\n",
        "    elif target_gr in to_drop:\n",
        "        # We will drop that anyway\n",
        "        new_column_2.append(\"Minimalism\")\n",
        "        bad_indexes.append(index)\n",
        "        dro += 1\n",
        "    else:\n",
        "        new_column_2.append(target_gr)\n",
        "\n",
        "length_tr = tracks_reduced.shape[0]\n",
        "nb_classes = len(set(new_column_2))\n",
        "print(\"We have done {} replacements and dropped {} lines.\".format(rplcmt, dro))\n",
        "print(\"\\n{:-^75}\\n\".format(\"Verification\"))\n",
        "print(\"{:<25} {:>15}\".format(\"length of new column_2\", len(new_column_2)))\n",
        "print(\"{:<25} {:>15}\".format(\"length of tracks_reduces\", length_tr))\n",
        "print(\"\\n{:-^75}\\n\".format(\"\"))\n",
        "print(\"Number of classes: {}.\".format(nb_classes))\n"
      ],
      "execution_count": null,
      "outputs": [
        {
          "output_type": "stream",
          "text": [
            "We have done 1112 replacements and dropped 4709 lines.\n",
            "\n",
            "-------------------------------Verification--------------------------------\n",
            "\n",
            "length of new column_2             102428\n",
            "length of tracks_reduces           102428\n",
            "\n",
            "---------------------------------------------------------------------------\n",
            "\n",
            "Number of classes: 25.\n"
          ],
          "name": "stdout"
        }
      ]
    },
    {
      "cell_type": "code",
      "metadata": {
        "colab": {
          "base_uri": "https://localhost:8080/"
        },
        "id": "grg6jDyxFvoD",
        "outputId": "10b27fb7-4ddb-44cd-c270-0c3a44c6404e"
      },
      "source": [
        "# We add the new column to the dataset\n",
        "tracks_reduced[('track', 'target_genre')] = new_column_2\n",
        "bef = \"Initial shape of tracks\"\n",
        "aft = \"New shape of tracks_reduced\"\n",
        "print(\"{:30s} {:>20}\".format(bef, str(tracks_reduced.shape)))\n",
        "tracks_reduced.drop(bad_indexes, inplace=True)\n",
        "print(\"{:30s} {:>20}\".format(aft, str(tracks_reduced.shape)))\n",
        "print(\"\\n{:-^75}\\n\".format(\"\"))\n",
        "\n",
        "# We should also do that on features\n",
        "bef2 = \"Initial shape of features\"\n",
        "aft2 = \"New shape of features_reduced\"\n",
        "print(\"{:30s} {:>20}\".format(bef2, str(features_reduced.shape)))\n",
        "features_reduced.drop(bad_indexes, inplace=True)\n",
        "print(\"{:30s} {:>20}\".format(aft2, str(features_reduced.shape)))\n"
      ],
      "execution_count": null,
      "outputs": [
        {
          "output_type": "stream",
          "text": [
            "Initial shape of tracks                (102428, 53)\n",
            "New shape of tracks_reduced             (97719, 53)\n",
            "\n",
            "---------------------------------------------------------------------------\n",
            "\n",
            "Initial shape of features             (102428, 518)\n",
            "New shape of features_reduced          (97719, 518)\n"
          ],
          "name": "stdout"
        }
      ]
    },
    {
      "cell_type": "markdown",
      "metadata": {
        "id": "V1CmLQFrsorm"
      },
      "source": [
        "### Classes aggregation using a Random Forest Classifier\n",
        "\n",
        "The idea is to use the predicted probabilities of a random forest classifier to detect similar type of music.\n",
        "\n",
        "For each genre, we construct a mean vector of all the vectors of predicted probabilities for the tracks of that genre.\n",
        "\n",
        "We proceed in 2 steps:\n",
        "1. We create a dictionary with a genre associated to the ids of the tracks of that genre\n",
        "2. We use the previous indexes to isolate the predictions for each genre to contruct a mean vector whose length is the number of classes"
      ]
    },
    {
      "cell_type": "code",
      "metadata": {
        "id": "6ww3UZT2snye",
        "colab": {
          "base_uri": "https://localhost:8080/"
        },
        "outputId": "5abf2290-0517-45b6-c39a-0c7e166b5c89"
      },
      "source": [
        "# Let's first gather in a dict the indexes of each genre in 'target_genre'\n",
        "# Before, we need to create a column with regular indexes\n",
        "n = len(tracks_reduced)\n",
        "tracks_reduced[('track', 'false_index')] = [i for i in range(n)]\n",
        "\n",
        "dict_indexes_genres = {}\n",
        "for genre in set(tracks_reduced[('track', 'target_genre')]):\n",
        "    sub_df = tracks_reduced[tracks_reduced[('track', 'target_genre')] == genre]\n",
        "    dict_indexes_genres[genre] = sub_df[('track', 'false_index')].values\n",
        "\n",
        "for i, (genre, indexes) in enumerate(dict_indexes_genres.items()):\n",
        "    print(\"{:<25s} some indexes {:>6} {:>6} {:>6}\".format(genre, *indexes[:3]))\n",
        "    if i == 5:\n",
        "        break\n"
      ],
      "execution_count": null,
      "outputs": [
        {
          "output_type": "stream",
          "text": [
            "Punk                      some indexes  16716  16717  16753\n",
            "Classical                 some indexes   2579   2580   4783\n",
            "Ambient                   some indexes    563    564    565\n",
            "Post-Rock                 some indexes  29141  29142  69169\n",
            "Electroacoustic           some indexes  13729  13730  13731\n",
            "Instrumental              some indexes    591    592    593\n"
          ],
          "name": "stdout"
        }
      ]
    },
    {
      "cell_type": "markdown",
      "metadata": {
        "id": "ShTKfIRJ76Ae"
      },
      "source": [
        "#### Let's see what a random forest predict for each genre. We can use these predictions to detect close genres."
      ]
    },
    {
      "cell_type": "code",
      "metadata": {
        "id": "36_mFxrnunu8"
      },
      "source": [
        "# It takes around 5 min to fit the RFC.\n",
        "Y = tracks_reduced[('track', 'target_genre')]\n",
        "X = features_reduced['mfcc']\n",
        "clf = RandomForestClassifier(n_estimators=50)\n",
        "clf.fit(X, Y)\n",
        "X_preds = clf.predict_proba(X)"
      ],
      "execution_count": null,
      "outputs": []
    },
    {
      "cell_type": "code",
      "metadata": {
        "colab": {
          "base_uri": "https://localhost:8080/"
        },
        "id": "e3qZTBu4vO5r",
        "outputId": "0f1fd62b-1bdb-442b-dcac-749f6f64477b"
      },
      "source": [
        "# Mean predictions for each class\n",
        "dict_mean_probas_genre = {}\n",
        "for genre, indexes in dict_indexes_genres.items():\n",
        "    mean_probas = np.mean(X_preds[indexes], axis=0)\n",
        "    dict_mean_probas_genre[genre] = mean_probas\n",
        "\n",
        "dict_tmp = {i: genre for i, genre in enumerate(dict_mean_probas_genre.keys())}\n",
        "\n",
        "phrase = \"mean probabilities on each track of that genre\"\n",
        "print(\"{:<30} {:<55}\".format(\"genre\", phrase))\n",
        "print(\"{:-^90}\".format(\"\"))\n",
        "for genre, mean_vect in dict_mean_probas_genre.items():\n",
        "    clean_mean_vect = [(round(elt, 2), dict_tmp[i])\n",
        "                       for i, elt in enumerate(mean_vect)]\n",
        "    interesting_preds = list(filter(lambda x: x[0] > 0.15, clean_mean_vect))\n",
        "    correct = True if interesting_preds[0][1] == genre else False\n",
        "    print(\"{:<30} {:<55} {}\".format(genre, str(interesting_preds), correct))\n"
      ],
      "execution_count": null,
      "outputs": [
        {
          "output_type": "stream",
          "text": [
            "genre                          mean probabilities on each track of that genre         \n",
            "------------------------------------------------------------------------------------------\n",
            "Field Recordings               [(0.66, 'Noise')]                                       False\n",
            "Folk                           [(0.72, 'Post-Rock')]                                   False\n",
            "techno                         [(0.16, 'Jazz'), (0.65, 'Avant-Garde')]                 False\n",
            "Hip-Hop Beats                  [(0.63, 'Lo-Fi')]                                       False\n",
            "Pop                            [(0.66, 'Instrumental')]                                False\n",
            "Jazz                           [(0.65, 'Soundtrack')]                                  False\n",
            "Musique Concrete               [(0.67, 'Ambient')]                                     False\n",
            "Electroacoustic                [(0.65, 'Pop')]                                         False\n",
            "Noise                          [(0.65, 'Experimental')]                                False\n",
            "Post-Rock                      [(0.61, 'Industrial')]                                  False\n",
            "Classical                      [(0.74, 'Hip-Hop Beats')]                               False\n",
            "Lo-Fi                          [(0.64, 'Rock')]                                        False\n",
            "Electronic                     [(0.76, 'Jazz')]                                        False\n",
            "Ambient Electronic             [(0.64, 'Folk')]                                        False\n",
            "Soundtrack                     [(0.63, 'Hip-Hop')]                                     False\n",
            "Rock                           [(0.79, 'Experimental Pop')]                            False\n",
            "Ambient                        [(0.66, 'Field Recordings')]                            False\n",
            "Experimental                   [(0.77, 'Musique Concrete')]                            False\n",
            "Instrumental                   [(0.67, 'Ambient Electronic')]                          False\n",
            "Industrial                     [(0.65, 'Electronic')]                                  False\n",
            "Experimental Pop               [(0.65, 'Electroacoustic')]                             False\n",
            "Hip-Hop                        [(0.71, 'Classical')]                                   False\n",
            "Avant-Garde                    [(0.65, 'techno')]                                      False\n"
          ],
          "name": "stdout"
        }
      ]
    },
    {
      "cell_type": "markdown",
      "metadata": {
        "id": "XO6_TVtD9Q7i"
      },
      "source": [
        "We can see that is is not an easy task, as the mean predictions of a RFC are almost always wrong.\n",
        "\n",
        "Unfortunately, we can not use these results to aggregate some classes since they are not good enough."
      ]
    },
    {
      "cell_type": "markdown",
      "metadata": {
        "id": "2qmSKAz3SKph"
      },
      "source": [
        "## Neural Network for Multiclass Classification"
      ]
    },
    {
      "cell_type": "markdown",
      "metadata": {
        "id": "Qp8fwSUi7hkl"
      },
      "source": [
        "\n",
        "## Model with 24 classes "
      ]
    },
    {
      "cell_type": "code",
      "metadata": {
        "id": "eS_ag2Lh6brI"
      },
      "source": [
        "# We use an architecture with 3 layers\n",
        "def get_model(n_inputs, n_outputs):\n",
        "    model = Sequential()\n",
        "    model.add(Dense(30, input_dim=n_inputs, kernel_initializer='he_uniform',\n",
        "                    activation='relu'))\n",
        "    model.add(Dense(25, activation = 'relu'))\n",
        "    model.add(Dense(n_outputs, activation='softmax'))\n",
        "    model.compile(loss='categorical_crossentropy', optimizer='adam')\n",
        "    return model\n"
      ],
      "execution_count": null,
      "outputs": []
    },
    {
      "cell_type": "markdown",
      "metadata": {
        "id": "SjBvng3i9DHi"
      },
      "source": [
        "### Cross-Validation of the model"
      ]
    },
    {
      "cell_type": "code",
      "metadata": {
        "colab": {
          "base_uri": "https://localhost:8080/"
        },
        "id": "VqQXfM11VhWo",
        "outputId": "52a81e9a-5259-4d8d-e6f8-f61e2fe8047c"
      },
      "source": [
        "Y = tracks_reduced[('track', 'target_genre')].to_numpy()\n",
        "X = features_reduced['mfcc'].to_numpy()\n",
        "print('{} features, {} classes'.format(X.shape[1], np.unique(Y).size))\n",
        "\n",
        "# cross-validation\n",
        "n_inputs, n_outputs = X.shape[1], np.unique(Y).size\n",
        "skf = StratifiedKFold(n_splits=3)\n",
        "\n",
        "liste_res = []\n",
        "for i, (train, test) in enumerate(skf.split(X, Y)):\n",
        "    x_train, x_test = X[train], X[test]\n",
        "    y_train, y_test = Y[train], Y[test]\n",
        "\n",
        "    # Verification number of classes in train and test\n",
        "    if np.unique(y_train).size != np.unique(y_test).size:\n",
        "        end = \"number of classes in train and test\"\n",
        "        print(\"Bad shuffling. There is a different \" + end)\n",
        "        cl_ytr = np.unique(y_train).size\n",
        "        cl_yte = np.unique(y_test).size\n",
        "        print(\"y_train {} != {} y_test\".format(cl_ytr, cl_yte))\n",
        "    else:\n",
        "        labels_onehot_train = LabelBinarizer().fit_transform(y_train)\n",
        "        labels_onehot_test = LabelBinarizer().fit_transform(y_test)\n",
        "        model = get_model(n_inputs, n_outputs)\n",
        "        # fit model\n",
        "        model.fit(x_train, labels_onehot_train, verbose=0, epochs=100)\n",
        "        # make a prediction on the test set\n",
        "        yhat = model.predict(x_test)\n",
        "        # round probabilities to class labels\n",
        "        yhat = yhat.round()\n",
        "        # calculate accuracy\n",
        "        acc = accuracy_score(labels_onehot_test, yhat)\n",
        "        # store result\n",
        "        liste_res.append(acc)\n",
        "        print(\"fold {} accuracy {:*^11.4f}\".format(i, acc))\n",
        "\n",
        "print(\"Mean accuracy {:-^15.3f}\".format(np.mean(liste_res)))\n"
      ],
      "execution_count": null,
      "outputs": [
        {
          "output_type": "stream",
          "text": [
            "140 features, 24 classes\n",
            "fold 0 accuracy **0.2279***\n",
            "fold 1 accuracy **0.2273***\n",
            "Mean accuracy -----0.228-----\n"
          ],
          "name": "stdout"
        }
      ]
    },
    {
      "cell_type": "markdown",
      "metadata": {
        "id": "OwlXCJ2JUmWp"
      },
      "source": [
        "#### Let's look at the detail for each class"
      ]
    },
    {
      "cell_type": "code",
      "metadata": {
        "colab": {
          "base_uri": "https://localhost:8080/"
        },
        "id": "Lm-HKwalOLLP",
        "outputId": "dce947a7-eb05-410a-c396-4b9b5451ebf2"
      },
      "source": [
        "print(sklearn.metrics.classification_report(labels_onehot_test, yhat))"
      ],
      "execution_count": null,
      "outputs": [
        {
          "output_type": "stream",
          "text": [
            "              precision    recall  f1-score   support\n",
            "\n",
            "           0       0.25      0.00      0.00      1048\n",
            "           1       0.00      0.00      0.00       289\n",
            "           2       0.00      0.00      0.00       742\n",
            "           3       0.40      0.19      0.26       667\n",
            "           4       0.00      0.00      0.00       207\n",
            "           5       0.53      0.35      0.42     10228\n",
            "           6       0.62      0.21      0.31     14022\n",
            "           7       0.00      0.00      0.00      1521\n",
            "           8       0.00      0.00      0.00       214\n",
            "           9       0.64      0.09      0.16      3147\n",
            "          10       0.58      0.23      0.33      2196\n",
            "          11       0.00      0.00      0.00        32\n",
            "          12       0.00      0.00      0.00        51\n",
            "          13       0.07      0.00      0.00      1784\n",
            "          14       0.00      0.00      0.00       482\n",
            "          15       0.00      0.00      0.00       484\n",
            "          16       0.00      0.00      0.00         8\n",
            "          17       0.00      0.00      0.00       734\n",
            "          18       0.00      0.00      0.00      2210\n",
            "          19       0.00      0.00      0.00         5\n",
            "          20       0.00      0.00      0.00        26\n",
            "          21       0.75      0.43      0.55      8491\n",
            "          22       0.00      0.00      0.00       137\n",
            "          23       0.50      0.01      0.01       134\n",
            "\n",
            "   micro avg       0.62      0.23      0.33     48859\n",
            "   macro avg       0.18      0.06      0.09     48859\n",
            "weighted avg       0.50      0.23      0.30     48859\n",
            " samples avg       0.23      0.23      0.23     48859\n",
            "\n"
          ],
          "name": "stdout"
        },
        {
          "output_type": "stream",
          "text": [
            "/usr/local/lib/python3.7/dist-packages/sklearn/metrics/_classification.py:1272: UndefinedMetricWarning: Precision and F-score are ill-defined and being set to 0.0 in labels with no predicted samples. Use `zero_division` parameter to control this behavior.\n",
            "  _warn_prf(average, modifier, msg_start, len(result))\n",
            "/usr/local/lib/python3.7/dist-packages/sklearn/metrics/_classification.py:1272: UndefinedMetricWarning: Precision and F-score are ill-defined and being set to 0.0 in samples with no predicted labels. Use `zero_division` parameter to control this behavior.\n",
            "  _warn_prf(average, modifier, msg_start, len(result))\n"
          ],
          "name": "stderr"
        }
      ]
    },
    {
      "cell_type": "markdown",
      "metadata": {
        "id": "Zqog-R1VU64v"
      },
      "source": [
        "The model only focuses on 8 classes over 24.\n",
        "\n",
        "As the model is unable to predict some classes with a little number of values, let's try to only focus on the main classes."
      ]
    },
    {
      "cell_type": "markdown",
      "metadata": {
        "id": "h5R_SeRm_swp"
      },
      "source": [
        "### Classification Model with 8 classes"
      ]
    },
    {
      "cell_type": "code",
      "metadata": {
        "id": "epnK6-6mXpTZ"
      },
      "source": [
        "# get the model\n",
        "def get_model(n_inputs, n_outputs):\n",
        "    model = Sequential()\n",
        "    model.add(Dense(20, input_dim=n_inputs, kernel_initializer='he_uniform', activation='relu'))\n",
        "    model.add(Dense(15, activation = 'relu'))\n",
        "    model.add(Dense(10, activation = 'relu'))\n",
        "    model.add(Dense(n_outputs, activation='softmax'))\n",
        "    model.compile(loss='categorical_crossentropy', optimizer='adam')\n",
        "    return model"
      ],
      "execution_count": null,
      "outputs": []
    },
    {
      "cell_type": "code",
      "metadata": {
        "id": "MiswpWpnNbC3",
        "colab": {
          "base_uri": "https://localhost:8080/"
        },
        "outputId": "14a72592-b68b-4c59-cb36-4ec020281f7c"
      },
      "source": [
        "to_predict = ['Experimental',\n",
        "              'Electronic',  \n",
        "              'Avant-Garde',\n",
        "              'Rock',\n",
        "              'Noise',\n",
        "              'Ambient',\n",
        "              'Experimental Pop',\n",
        "              'Folk']       \n",
        "\n",
        "Y = tracks_reduced[('track', 'target_genre')]\n",
        "X = features_reduced['mfcc']\n",
        "\n",
        "g0, g1, g2, g3 = 'Experimental', 'Electronic', 'Avant-Garde', 'Experimental Pop'\n",
        "df = tracks_reduced[(tracks_reduced[('track', 'target_genre')] == g0)\n",
        "                    | (tracks_reduced[('track', 'target_genre')] == g1)\n",
        "                    | (tracks_reduced[('track', 'target_genre')] == g2)\n",
        "                    | (tracks_reduced[('track', 'target_genre')] == 'Rock')\n",
        "                    | (tracks_reduced[('track', 'target_genre')] == 'Noise')\n",
        "                    | (tracks_reduced[('track', 'target_genre')] == 'Ambient')\n",
        "                    | (tracks_reduced[('track', 'target_genre')] == g3)\n",
        "                    | (tracks_reduced[('track', 'target_genre')] == 'Folk')]\n",
        "\n",
        "to_drop = set(X.index) - set(df.index)\n",
        "print(\"We have dropped {} indexes\".format(len(to_drop)))\n",
        "Y = df[('track', 'target_genre')]\n",
        "X = features_reduced.drop(list(to_drop))\n",
        "X = X['mfcc']\n",
        "print(\"X.shape\", X.shape)\n",
        "print(\"Y.shape\", Y.shape)\n"
      ],
      "execution_count": null,
      "outputs": [
        {
          "output_type": "stream",
          "text": [
            "We have dropped 17851 indexes\n",
            "X.shape (79868, 140)\n",
            "Y.shape (79868,)\n"
          ],
          "name": "stdout"
        }
      ]
    },
    {
      "cell_type": "code",
      "metadata": {
        "colab": {
          "base_uri": "https://localhost:8080/"
        },
        "id": "MJAkYySLN5mc",
        "outputId": "d81b1c25-caf9-450f-c6cf-0461dd7f67d5"
      },
      "source": [
        "X_train, X_test, y_train, y_test = train_test_split(X, Y, test_size=.2)\n",
        "\n",
        "print('{} training examples, {} testing examples'.format(y_train.size, y_test.size))\n",
        "print('{} features, {} classes'.format(X_train.shape[1], np.unique(y_train).size))\n",
        "\n",
        "labels_onehot_train = LabelBinarizer().fit_transform(y_train)\n",
        "labels_onehot_test = LabelBinarizer().fit_transform(y_test)\n",
        "\n",
        "# Without cross-validation\n",
        "n_inputs, n_outputs = X_train.shape[1], np.unique(y_train).size\n",
        "model = get_model(n_inputs, n_outputs)\n",
        "\n",
        "# fit model\n",
        "model.fit(X_train, labels_onehot_train, verbose=0, epochs=100)\n",
        "\n",
        "# make a prediction on the test set\n",
        "yhat = model.predict(X_test)\n",
        "\n",
        "# round probabilities to class labels\n",
        "yhat = yhat.round()\n",
        "\n",
        "# calculate accuracy\n",
        "acc = accuracy_score(labels_onehot_test, yhat)\n",
        "\n",
        "# store result\n",
        "print(\"accuracy {:*^11.4f}\".format(acc))"
      ],
      "execution_count": null,
      "outputs": [
        {
          "output_type": "stream",
          "text": [
            "63894 training examples, 15974 testing examples\n",
            "140 features, 8 classes\n",
            "accuracy **0.4283***\n"
          ],
          "name": "stdout"
        }
      ]
    },
    {
      "cell_type": "markdown",
      "metadata": {
        "id": "mglZ0D2pYwr6"
      },
      "source": [
        "Let's look at the detail of the results for each class."
      ]
    },
    {
      "cell_type": "code",
      "metadata": {
        "id": "M1x2xxPZNvqe",
        "colab": {
          "base_uri": "https://localhost:8080/"
        },
        "outputId": "ff398d31-8443-4917-f000-bb815769428b"
      },
      "source": [
        "print(sklearn.metrics.classification_report(labels_onehot_test, yhat))"
      ],
      "execution_count": null,
      "outputs": [
        {
          "output_type": "stream",
          "text": [
            "              precision    recall  f1-score   support\n",
            "\n",
            "           0       0.00      0.00      0.00       399\n",
            "           1       0.00      0.00      0.00       314\n",
            "           2       0.70      0.38      0.50      4182\n",
            "           3       0.62      0.52      0.56      5637\n",
            "           4       0.71      0.01      0.02       603\n",
            "           5       0.65      0.23      0.34      1233\n",
            "           6       0.44      0.03      0.05       267\n",
            "           7       0.71      0.61      0.66      3339\n",
            "\n",
            "   micro avg       0.66      0.43      0.52     15974\n",
            "   macro avg       0.48      0.22      0.26     15974\n",
            "weighted avg       0.64      0.43      0.49     15974\n",
            " samples avg       0.43      0.43      0.43     15974\n",
            "\n"
          ],
          "name": "stdout"
        },
        {
          "output_type": "stream",
          "text": [
            "/usr/local/lib/python3.7/dist-packages/sklearn/metrics/_classification.py:1272: UndefinedMetricWarning: Precision and F-score are ill-defined and being set to 0.0 in labels with no predicted samples. Use `zero_division` parameter to control this behavior.\n",
            "  _warn_prf(average, modifier, msg_start, len(result))\n",
            "/usr/local/lib/python3.7/dist-packages/sklearn/metrics/_classification.py:1272: UndefinedMetricWarning: Precision and F-score are ill-defined and being set to 0.0 in samples with no predicted labels. Use `zero_division` parameter to control this behavior.\n",
            "  _warn_prf(average, modifier, msg_start, len(result))\n"
          ],
          "name": "stderr"
        }
      ]
    },
    {
      "cell_type": "markdown",
      "metadata": {
        "id": "AQtUuoxHY1r9"
      },
      "source": [
        "## Model with the 4 main classes\n",
        "\n",
        "Like in databricks we try to predict only the main classes. But here we have more lines, as  we have fill some values in the target column."
      ]
    },
    {
      "cell_type": "code",
      "metadata": {
        "colab": {
          "base_uri": "https://localhost:8080/"
        },
        "id": "UOIETxJNLEv7",
        "outputId": "80227851-d8d2-4b15-d491-4a34908728e3"
      },
      "source": [
        "to_predict = ['Electronic', 'Rock', 'Folk', 'Hip-Hop']       \n",
        "\n",
        "Y = tracks_reduced[('track', 'target_genre')]\n",
        "X = features_reduced['mfcc']\n",
        "\n",
        "df2 = tracks_reduced[(tracks_reduced[('track', 'target_genre')] == 'Electronic')\n",
        "                     | (tracks_reduced[('track', 'target_genre')] == 'Hip-Hop')\n",
        "                     | (tracks_reduced[('track', 'target_genre')] == 'Folk')\n",
        "                     | (tracks_reduced[('track', 'target_genre')] == 'Rock')]\n",
        "\n",
        "to_drop = set(X.index) - set(df2.index)\n",
        "print(\"We have dropped {} indexes\".format(len(to_drop)))\n",
        "Y = df2[('track', 'target_genre')]\n",
        "X = features_reduced.drop(list(to_drop))\n",
        "X = X['mfcc']\n",
        "print(\"X.shape\", X.shape)\n",
        "print(\"Y.shape\", Y.shape)\n"
      ],
      "execution_count": null,
      "outputs": [
        {
          "output_type": "stream",
          "text": [
            "We have dropped 49593 indexes\n",
            "X.shape (48126, 140)\n",
            "Y.shape (48126,)\n"
          ],
          "name": "stdout"
        }
      ]
    },
    {
      "cell_type": "code",
      "metadata": {
        "colab": {
          "base_uri": "https://localhost:8080/"
        },
        "id": "OhO_dmieORWl",
        "outputId": "7f906d50-9df3-4364-e55c-736fcb763fc6"
      },
      "source": [
        "X_train, X_test, y_train, y_test = train_test_split(X, Y, test_size=.2)\n",
        "\n",
        "print('{} training examples, {} testing examples'.format(y_train.size, y_test.size))\n",
        "print('{} features, {} classes'.format(X_train.shape[1], np.unique(y_train).size))\n",
        "\n",
        "labels_onehot_train = LabelBinarizer().fit_transform(y_train)\n",
        "labels_onehot_test = LabelBinarizer().fit_transform(y_test)\n",
        "\n",
        "# Without cross-validation\n",
        "n_inputs, n_outputs = X_train.shape[1], np.unique(y_train).size\n",
        "model = get_model(n_inputs, n_outputs)\n",
        "\n",
        "# fit model\n",
        "model.fit(X_train, labels_onehot_train, verbose=0, epochs=100)\n",
        "\n",
        "# make a prediction on the test set\n",
        "yhat = model.predict(X_test)\n",
        "\n",
        "# round probabilities to class labels\n",
        "yhat = yhat.round()\n",
        "\n",
        "# calculate accuracy\n",
        "acc = accuracy_score(labels_onehot_test, yhat)\n",
        "\n",
        "# store result\n",
        "print(\"accuracy {:*^11.4f}\".format(acc))"
      ],
      "execution_count": null,
      "outputs": [
        {
          "output_type": "stream",
          "text": [
            "38500 training examples, 9626 testing examples\n",
            "140 features, 4 classes\n",
            "accuracy **0.6968***\n"
          ],
          "name": "stdout"
        }
      ]
    },
    {
      "cell_type": "code",
      "metadata": {
        "id": "qgDDnF-E2NG7",
        "colab": {
          "base_uri": "https://localhost:8080/"
        },
        "outputId": "fa8fba38-a9e7-4dc7-bd71-27916c7a3cdd"
      },
      "source": [
        "print(sklearn.metrics.classification_report(labels_onehot_test, yhat))"
      ],
      "execution_count": null,
      "outputs": [
        {
          "output_type": "stream",
          "text": [
            "              precision    recall  f1-score   support\n",
            "\n",
            "           0       0.78      0.79      0.78      4036\n",
            "           1       0.72      0.54      0.61      1265\n",
            "           2       0.76      0.34      0.47       914\n",
            "           3       0.83      0.75      0.79      3411\n",
            "\n",
            "   micro avg       0.79      0.70      0.74      9626\n",
            "   macro avg       0.77      0.60      0.66      9626\n",
            "weighted avg       0.79      0.70      0.73      9626\n",
            " samples avg       0.70      0.70      0.70      9626\n",
            "\n"
          ],
          "name": "stdout"
        },
        {
          "output_type": "stream",
          "text": [
            "/usr/local/lib/python3.7/dist-packages/sklearn/metrics/_classification.py:1272: UndefinedMetricWarning: Precision and F-score are ill-defined and being set to 0.0 in samples with no predicted labels. Use `zero_division` parameter to control this behavior.\n",
            "  _warn_prf(average, modifier, msg_start, len(result))\n"
          ],
          "name": "stderr"
        }
      ]
    },
    {
      "cell_type": "markdown",
      "metadata": {
        "id": "3jw7I3wsaXHm"
      },
      "source": [
        "We can see that the model is quite efficient when there are only 4 classes to predict. There are probably not enough data to predict more classes. It would also interesting to use more features to predict the genres."
      ]
    },
    {
      "cell_type": "code",
      "metadata": {
        "id": "cSLkAUXUa7S0"
      },
      "source": [
        ""
      ],
      "execution_count": null,
      "outputs": []
    }
  ]
}